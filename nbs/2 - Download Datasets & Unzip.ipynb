{
 "cells": [
  {
   "cell_type": "code",
   "execution_count": 12,
   "id": "ab0ce884",
   "metadata": {},
   "outputs": [],
   "source": [
    "import pathlib\n",
    "\n",
    "BASE_DIR = pathlib.Path().resolve().parent\n",
    "DATASET_DIR = BASE_DIR / \"datasets\"\n",
    "ZIPS_DIR = DATASET_DIR / \"zips\"\n",
    "ZIPS_DIR.mkdir(exist_ok=True,parents=True)\n",
    "\n",
    "SPAM_SMS_ZIP_PATH = ZIPS_DIR / \"sms-spam-dataset.zip\"\n",
    "SPAM_YOUTUBE_ZIP_PATH = ZIPS_DIR / \"youtube-spam-dataset.zip\""
   ]
  },
  {
   "cell_type": "code",
   "execution_count": 11,
   "id": "e7f91835",
   "metadata": {},
   "outputs": [],
   "source": [
    "SMS_ZIP = \"https://archive.ics.uci.edu/ml/machine-learning-databases/00228/smsspamcollection.zip\"\n",
    "YOUTUBE_SPAM_ZIP = \"https://archive.ics.uci.edu/ml/machine-learning-databases/00380/YouTube-Spam-Collection-v1.zip\""
   ]
  },
  {
   "cell_type": "code",
   "execution_count": 13,
   "id": "452c6755",
   "metadata": {},
   "outputs": [
    {
     "name": "stdout",
     "output_type": "stream",
     "text": [
      "  % Total    % Received % Xferd  Average Speed   Time    Time     Time  Current\n",
      "                                 Dload  Upload   Total   Spent    Left  Speed\n",
      "100  198k  100  198k    0     0   113k      0  0:00:01  0:00:01 --:--:--  113k\n",
      "  % Total    % Received % Xferd  Average Speed   Time    Time     Time  Current\n",
      "                                 Dload  Upload   Total   Spent    Left  Speed\n",
      "100  159k  100  159k    0     0   120k      0  0:00:01  0:00:01 --:--:--  120k\n"
     ]
    }
   ],
   "source": [
    "!curl $SMS_ZIP -o $SPAM_SMS_ZIP_PATH\n",
    "\n",
    "!curl $YOUTUBE_SPAM_ZIP -o $SPAM_YOUTUBE_ZIP_PATH"
   ]
  },
  {
   "cell_type": "code",
   "execution_count": 14,
   "id": "4212deaa",
   "metadata": {},
   "outputs": [],
   "source": [
    "SPAM_CLASSFIER_DIR = DATASET_DIR / \"spam-classifier\"\n",
    "SMS_SPAM_DIR = SPAM_CLASSFIER_DIR / \"spam-sms\"\n",
    "YOUTUBE_SPAM_DIR = SPAM_CLASSFIER_DIR / \"youtube-spam\"\n",
    "\n",
    "\n",
    "SMS_SPAM_DIR.mkdir(exist_ok=True, parents=True)\n",
    "YOUTUBE_SPAM_DIR.mkdir(exist_ok=True, parents=True)"
   ]
  },
  {
   "cell_type": "code",
   "execution_count": 15,
   "id": "8990b8ab",
   "metadata": {},
   "outputs": [
    {
     "name": "stdout",
     "output_type": "stream",
     "text": [
      "Archive:  /home/patydani/personal_projects/python_projects/ai-api-python-ml/datasets/zips/sms-spam-dataset.zip\n",
      "  inflating: /home/patydani/personal_projects/python_projects/ai-api-python-ml/datasets/spam-classifier/spam-sms/SMSSpamCollection  \n",
      "  inflating: /home/patydani/personal_projects/python_projects/ai-api-python-ml/datasets/spam-classifier/spam-sms/readme  \n",
      "Archive:  /home/patydani/personal_projects/python_projects/ai-api-python-ml/datasets/zips/youtube-spam-dataset.zip\n",
      "  inflating: /home/patydani/personal_projects/python_projects/ai-api-python-ml/datasets/spam-classifier/youtube-spam/Youtube01-Psy.csv  \n",
      "   creating: /home/patydani/personal_projects/python_projects/ai-api-python-ml/datasets/spam-classifier/youtube-spam/__MACOSX/\n",
      "  inflating: /home/patydani/personal_projects/python_projects/ai-api-python-ml/datasets/spam-classifier/youtube-spam/__MACOSX/._Youtube01-Psy.csv  \n",
      "  inflating: /home/patydani/personal_projects/python_projects/ai-api-python-ml/datasets/spam-classifier/youtube-spam/Youtube02-KatyPerry.csv  \n",
      "  inflating: /home/patydani/personal_projects/python_projects/ai-api-python-ml/datasets/spam-classifier/youtube-spam/__MACOSX/._Youtube02-KatyPerry.csv  \n",
      "  inflating: /home/patydani/personal_projects/python_projects/ai-api-python-ml/datasets/spam-classifier/youtube-spam/Youtube03-LMFAO.csv  \n",
      "  inflating: /home/patydani/personal_projects/python_projects/ai-api-python-ml/datasets/spam-classifier/youtube-spam/__MACOSX/._Youtube03-LMFAO.csv  \n",
      "  inflating: /home/patydani/personal_projects/python_projects/ai-api-python-ml/datasets/spam-classifier/youtube-spam/Youtube04-Eminem.csv  \n",
      "  inflating: /home/patydani/personal_projects/python_projects/ai-api-python-ml/datasets/spam-classifier/youtube-spam/__MACOSX/._Youtube04-Eminem.csv  \n",
      "  inflating: /home/patydani/personal_projects/python_projects/ai-api-python-ml/datasets/spam-classifier/youtube-spam/Youtube05-Shakira.csv  \n",
      "  inflating: /home/patydani/personal_projects/python_projects/ai-api-python-ml/datasets/spam-classifier/youtube-spam/__MACOSX/._Youtube05-Shakira.csv  \n"
     ]
    }
   ],
   "source": [
    "!unzip -o $SPAM_SMS_ZIP_PATH -d $SMS_SPAM_DIR\n",
    "!unzip -o $SPAM_YOUTUBE_ZIP_PATH -d $YOUTUBE_SPAM_DIR"
   ]
  }
 ],
 "metadata": {
  "kernelspec": {
   "display_name": "Python 3 (ipykernel)",
   "language": "python",
   "name": "python3"
  },
  "language_info": {
   "codemirror_mode": {
    "name": "ipython",
    "version": 3
   },
   "file_extension": ".py",
   "mimetype": "text/x-python",
   "name": "python",
   "nbconvert_exporter": "python",
   "pygments_lexer": "ipython3",
   "version": "3.8.10"
  }
 },
 "nbformat": 4,
 "nbformat_minor": 5
}
